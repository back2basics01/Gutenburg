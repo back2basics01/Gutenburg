{
 "cells": [
  {
   "cell_type": "code",
   "execution_count": null,
   "metadata": {},
   "outputs": [],
   "source": [
    "from collections import Counter\n",
    "import numpy as np\n",
    "import pandas as pd\n",
    "import requests\n",
    "import spacy \n",
    "import sys\n",
    "from bs4 import BeautifulSoup"
   ]
  },
  {
   "cell_type": "code",
   "execution_count": null,
   "metadata": {},
   "outputs": [],
   "source": [
    "\"\"\" \"\"\"\n",
    "# Importing Spacy\n",
    "#!{sys.executable} -m pip install spacy"
   ]
  },
  {
   "cell_type": "code",
   "execution_count": null,
   "metadata": {},
   "outputs": [],
   "source": [
    "# Importing English in Spacy \n",
    "#!{sys.executable} -m spacy download en"
   ]
  },
  {
   "cell_type": "code",
   "execution_count": null,
   "metadata": {},
   "outputs": [],
   "source": [
    "nlp = spacy.load(\"en\") \n",
    "url = 'https://www.gutenberg.org/files/2701/2701-h/2701-h.htm'\n",
    "r = requests.get(url)\n",
    "html = r.text\n",
    "soup = BeautifulSoup(html, \"html5lib\")\n",
    "text = soup.get_text()\n"
   ]
  },
  {
   "cell_type": "code",
   "execution_count": null,
   "metadata": {},
   "outputs": [],
   "source": [
    "gutten_nlp = nlp(text[:99999])"
   ]
  },
  {
   "cell_type": "code",
   "execution_count": null,
   "metadata": {},
   "outputs": [],
   "source": [
    "for token in gutten_nlp:\n",
    "    (token.orth_)\n",
    "    #print(token.orth_)\n",
    "    \n",
    "    "
   ]
  },
  {
   "cell_type": "code",
   "execution_count": null,
   "metadata": {},
   "outputs": [],
   "source": [
    "rep = []\n",
    "\n",
    "for token in gutten_nlp:\n",
    "    rep.append((token))\n",
    "    rep.append((token.orth_))\n",
    "    rep.append((token.orth))\n",
    "   \n",
    "    \n",
    "#print(rep)\n"
   ]
  },
  {
   "cell_type": "code",
   "execution_count": null,
   "metadata": {},
   "outputs": [],
   "source": [
    "for token in gutten_nlp:\n",
    "    if not token.is_punct | token.is_space:\n",
    "        print(token.orth_)"
   ]
  },
  {
   "cell_type": "code",
   "execution_count": null,
   "metadata": {},
   "outputs": [],
   "source": [
    "for token in gutten_nlp:\n",
    "    lemma = (token.lemma_)\n",
    "    print(lemma)\n"
   ]
  },
  {
   "cell_type": "code",
   "execution_count": null,
   "metadata": {},
   "outputs": [],
   "source": [
    "for token in gutten_nlp:\n",
    "    tag_token = (token, token.tag_)\n",
    "    print(tag_token)\n"
   ]
  },
  {
   "cell_type": "code",
   "execution_count": null,
   "metadata": {},
   "outputs": [],
   "source": [
    "# notice we use the nlp object with \".ents\" method\n",
    "\n",
    "for token in gutten_nlp.ents:\n",
    "    print(token, token.label_, token.label)\n",
    "\n"
   ]
  },
  {
   "cell_type": "code",
   "execution_count": null,
   "metadata": {},
   "outputs": [],
   "source": [
    "# You can also identify sentences\n",
    "for token in gutten_nlp.sents:\n",
    "    print(token)"
   ]
  },
  {
   "cell_type": "code",
   "execution_count": null,
   "metadata": {},
   "outputs": [],
   "source": [
    "# Now let's understand the text\n",
    "words = []\n",
    "for token in gutten_nlp:\n",
    "    if not token.is_stop | token.is_punct:\n",
    "        words.append(token.text)\n",
    "len(words)"
   ]
  },
  {
   "cell_type": "code",
   "execution_count": null,
   "metadata": {},
   "outputs": [],
   "source": [
    "# how many tokens\n",
    "tokens = []\n",
    "for token in gutten_nlp:\n",
    "    tokens.append(token)\n",
    "len(tokens)"
   ]
  },
  {
   "cell_type": "code",
   "execution_count": null,
   "metadata": {},
   "outputs": [],
   "source": [
    "nouns = []\n",
    "\n",
    "for token in gutten_nlp:\n",
    "    if not token.is_stop | token.is_punct and token.pos_ == \"NOUN\":\n",
    "        nouns.append(token.text)\n",
    "\n",
    "len(nouns)"
   ]
  },
  {
   "cell_type": "code",
   "execution_count": null,
   "metadata": {},
   "outputs": [],
   "source": [
    "# How many verbs\n",
    "verbs = []\n",
    "\n",
    "for token in gutten_nlp:\n",
    "    if not token.is_stop | token.is_punct and token.pos_ == \"VERB\":\n",
    "        verbs.append(token.text)\n",
    "\n",
    "len(verbs)"
   ]
  },
  {
   "cell_type": "code",
   "execution_count": null,
   "metadata": {},
   "outputs": [],
   "source": [
    "# Frequently named entities\n",
    "kind = []\n",
    "for entity in gutten_nlp.ents:\n",
    "    kind.append(entity.label_)\n",
    "\n",
    "kind_count = Counter(kind)\n",
    "top_kind = kind_count.most_common(5)\n",
    "\n",
    "print(top_kind)"
   ]
  },
  {
   "cell_type": "code",
   "execution_count": null,
   "metadata": {},
   "outputs": [],
   "source": [
    "#kind\n",
    "\n",
    "kind_count = Counter(kind)\n",
    "top_kind = kind_count.most_common(5)\n",
    "top_kind"
   ]
  },
  {
   "cell_type": "code",
   "execution_count": null,
   "metadata": {},
   "outputs": [],
   "source": [
    "\n",
    "# five most common noun tokens\n",
    "noun_count = Counter(nouns)\n",
    "top_nouns = noun_count.most_common(5)"
   ]
  },
  {
   "cell_type": "code",
   "execution_count": null,
   "metadata": {},
   "outputs": [],
   "source": [
    "top_nouns"
   ]
  },
  {
   "cell_type": "code",
   "execution_count": null,
   "metadata": {},
   "outputs": [],
   "source": [
    "sentences = []\n",
    "# You can also identify sentences\n",
    "for token in gutten_nlp.sents:\n",
    "    sentences.append(token)\n",
    "\n",
    "print(len(sentences))    "
   ]
  },
  {
   "cell_type": "code",
   "execution_count": null,
   "metadata": {},
   "outputs": [],
   "source": [
    "# 15ht Sentence first word :\n",
    "\n",
    "fifteen = sentences[14]\n",
    "word_fifteen = fifteen[0]\n",
    "word_fifteen.vector_norm"
   ]
  },
  {
   "cell_type": "code",
   "execution_count": null,
   "metadata": {},
   "outputs": [],
   "source": [
    "from spacy import displacy\n",
    "fifty = sentences[50]\n",
    "displacy.render(fifty, style=\"dep\")"
   ]
  },
  {
   "cell_type": "code",
   "execution_count": null,
   "metadata": {},
   "outputs": [],
   "source": []
  },
  {
   "cell_type": "code",
   "execution_count": null,
   "metadata": {},
   "outputs": [],
   "source": []
  },
  {
   "cell_type": "code",
   "execution_count": null,
   "metadata": {},
   "outputs": [],
   "source": []
  },
  {
   "cell_type": "code",
   "execution_count": null,
   "metadata": {},
   "outputs": [],
   "source": []
  },
  {
   "cell_type": "code",
   "execution_count": null,
   "metadata": {},
   "outputs": [],
   "source": []
  }
 ],
 "metadata": {
  "kernelspec": {
   "display_name": "Python 3",
   "language": "python",
   "name": "python3"
  },
  "language_info": {
   "codemirror_mode": {
    "name": "ipython",
    "version": 3
   },
   "file_extension": ".py",
   "mimetype": "text/x-python",
   "name": "python",
   "nbconvert_exporter": "python",
   "pygments_lexer": "ipython3",
   "version": "3.7.3"
  }
 },
 "nbformat": 4,
 "nbformat_minor": 2
}
